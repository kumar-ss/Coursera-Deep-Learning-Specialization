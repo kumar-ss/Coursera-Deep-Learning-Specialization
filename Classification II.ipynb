{
 "cells": [
  {
   "cell_type": "markdown",
   "metadata": {},
   "source": [
    "# LOGISTIC REGRESSION"
   ]
  },
  {
   "cell_type": "code",
   "execution_count": null,
   "metadata": {},
   "outputs": [],
   "source": [
    "#reindexing the salary status names to 0,1\n",
    "data2['Salstat']=data2['SalStat'].map({'less than or equal to 50,000':0,'greater than 50,000':1})\n",
    "print(data2['SalStat'])\n",
    "\n",
    "new_data=pd.get_dummies(data2, drop_first=True)\n",
    "\n",
    "#Storing the column names\n",
    "columns_list=list(new_data.columns)\n",
    "print(columns_list)\n",
    "\n",
    "#Separating the input names form data\n",
    "features=list(set(columns_list)-set(['SalStat']))\n",
    "print(features)\n",
    "\n",
    "#Storing the output values in y\n",
    "y=new_data['SalStat'].vlaues\n",
    "print(y)\n",
    "\n",
    "\n",
    "#Storing the values from input features\n",
    "x=new_data[features].values\n",
    "print(x)\n",
    "\n",
    "#splitting the data into train and test\n",
    "train_x,test_x,train_y,test_y=train_test_split(x,y,test_size=0.3,random_state=0)\n",
    "\n",
    "#Make an instance of the Model\n",
    "logistic=LogisticRegression()\n",
    "\n",
    "#Fitting the values for x and y\n",
    "logistic.fit(train_x,train_y)\n",
    "logistic.coef_\n",
    "logistic.intercept_\n",
    "\n",
    "#Prediction from test data"
   ]
  }
 ],
 "metadata": {
  "kernelspec": {
   "display_name": "Python 3",
   "language": "python",
   "name": "python3"
  },
  "language_info": {
   "codemirror_mode": {
    "name": "ipython",
    "version": 3
   },
   "file_extension": ".py",
   "mimetype": "text/x-python",
   "name": "python",
   "nbconvert_exporter": "python",
   "pygments_lexer": "ipython3",
   "version": "3.8.5"
  }
 },
 "nbformat": 4,
 "nbformat_minor": 4
}
